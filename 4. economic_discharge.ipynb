{
 "cells": [
  {
   "cell_type": "markdown",
   "metadata": {},
   "source": [
    "![image](https://github.com/BishalMan/PSPlab22_1119280_Bishal/blob/Lab_session_4.1/opf1.jpeg?raw=true)"
   ]
  },
  {
   "cell_type": "code",
   "execution_count": 1,
   "metadata": {},
   "outputs": [],
   "source": [
    "# import necessary libraries\n",
    "import pandas as pd\n",
    "import pandapower as pp\n",
    "import numpy as np"
   ]
  },
  {
   "cell_type": "code",
   "execution_count": 2,
   "metadata": {},
   "outputs": [],
   "source": [
    "#create empty network\n",
    "net  = pp.create_empty_network()"
   ]
  },
  {
   "cell_type": "code",
   "execution_count": 3,
   "metadata": {},
   "outputs": [
    {
     "name": "stderr",
     "output_type": "stream",
     "text": [
      "c:\\Users\\User\\AppData\\Local\\Programs\\Python\\Python310\\lib\\site-packages\\pandapower\\auxiliary.py:272: FutureWarning: iteritems is deprecated and will be removed in a future version. Use .items instead.\n",
      "  for item, dtype in list(dtypes.iteritems()):\n",
      "c:\\Users\\User\\AppData\\Local\\Programs\\Python\\Python310\\lib\\site-packages\\pandapower\\auxiliary.py:272: FutureWarning: iteritems is deprecated and will be removed in a future version. Use .items instead.\n",
      "  for item, dtype in list(dtypes.iteritems()):\n",
      "c:\\Users\\User\\AppData\\Local\\Programs\\Python\\Python310\\lib\\site-packages\\pandapower\\auxiliary.py:272: FutureWarning: iteritems is deprecated and will be removed in a future version. Use .items instead.\n",
      "  for item, dtype in list(dtypes.iteritems()):\n",
      "c:\\Users\\User\\AppData\\Local\\Programs\\Python\\Python310\\lib\\site-packages\\pandapower\\auxiliary.py:272: FutureWarning: iteritems is deprecated and will be removed in a future version. Use .items instead.\n",
      "  for item, dtype in list(dtypes.iteritems()):\n"
     ]
    }
   ],
   "source": [
    "# define buses\n",
    "bus1 = pp.create_bus(net,vn_kv=220)\n",
    "bus2 = pp.create_bus(net,vn_kv=110)\n",
    "bus3 = pp.create_bus(net,vn_kv=110)\n",
    "bus4 = pp.create_bus(net,vn_kv=110)"
   ]
  },
  {
   "cell_type": "code",
   "execution_count": 4,
   "metadata": {},
   "outputs": [
    {
     "data": {
      "text/html": [
       "<div>\n",
       "<style scoped>\n",
       "    .dataframe tbody tr th:only-of-type {\n",
       "        vertical-align: middle;\n",
       "    }\n",
       "\n",
       "    .dataframe tbody tr th {\n",
       "        vertical-align: top;\n",
       "    }\n",
       "\n",
       "    .dataframe thead th {\n",
       "        text-align: right;\n",
       "    }\n",
       "</style>\n",
       "<table border=\"1\" class=\"dataframe\">\n",
       "  <thead>\n",
       "    <tr style=\"text-align: right;\">\n",
       "      <th></th>\n",
       "      <th>name</th>\n",
       "      <th>vn_kv</th>\n",
       "      <th>type</th>\n",
       "      <th>zone</th>\n",
       "      <th>in_service</th>\n",
       "    </tr>\n",
       "  </thead>\n",
       "  <tbody>\n",
       "    <tr>\n",
       "      <th>0</th>\n",
       "      <td>None</td>\n",
       "      <td>220.0</td>\n",
       "      <td>b</td>\n",
       "      <td>None</td>\n",
       "      <td>True</td>\n",
       "    </tr>\n",
       "    <tr>\n",
       "      <th>1</th>\n",
       "      <td>None</td>\n",
       "      <td>110.0</td>\n",
       "      <td>b</td>\n",
       "      <td>None</td>\n",
       "      <td>True</td>\n",
       "    </tr>\n",
       "    <tr>\n",
       "      <th>2</th>\n",
       "      <td>None</td>\n",
       "      <td>110.0</td>\n",
       "      <td>b</td>\n",
       "      <td>None</td>\n",
       "      <td>True</td>\n",
       "    </tr>\n",
       "    <tr>\n",
       "      <th>3</th>\n",
       "      <td>None</td>\n",
       "      <td>110.0</td>\n",
       "      <td>b</td>\n",
       "      <td>None</td>\n",
       "      <td>True</td>\n",
       "    </tr>\n",
       "  </tbody>\n",
       "</table>\n",
       "</div>"
      ],
      "text/plain": [
       "   name  vn_kv type  zone  in_service\n",
       "0  None  220.0    b  None        True\n",
       "1  None  110.0    b  None        True\n",
       "2  None  110.0    b  None        True\n",
       "3  None  110.0    b  None        True"
      ]
     },
     "execution_count": 4,
     "metadata": {},
     "output_type": "execute_result"
    }
   ],
   "source": [
    "net.bus"
   ]
  },
  {
   "cell_type": "code",
   "execution_count": 5,
   "metadata": {},
   "outputs": [
    {
     "name": "stderr",
     "output_type": "stream",
     "text": [
      "c:\\Users\\User\\AppData\\Local\\Programs\\Python\\Python310\\lib\\site-packages\\pandapower\\auxiliary.py:272: FutureWarning: iteritems is deprecated and will be removed in a future version. Use .items instead.\n",
      "  for item, dtype in list(dtypes.iteritems()):\n"
     ]
    },
    {
     "data": {
      "text/plain": [
       "0"
      ]
     },
     "execution_count": 5,
     "metadata": {},
     "output_type": "execute_result"
    }
   ],
   "source": [
    "# trafo creation\n",
    "pp.create_transformer(net,bus1,bus2,std_type = '100 MVA 220/110 kV')"
   ]
  },
  {
   "cell_type": "code",
   "execution_count": 6,
   "metadata": {},
   "outputs": [
    {
     "name": "stderr",
     "output_type": "stream",
     "text": [
      "c:\\Users\\User\\AppData\\Local\\Programs\\Python\\Python310\\lib\\site-packages\\pandapower\\auxiliary.py:272: FutureWarning: iteritems is deprecated and will be removed in a future version. Use .items instead.\n",
      "  for item, dtype in list(dtypes.iteritems()):\n",
      "c:\\Users\\User\\AppData\\Local\\Programs\\Python\\Python310\\lib\\site-packages\\pandapower\\auxiliary.py:272: FutureWarning: iteritems is deprecated and will be removed in a future version. Use .items instead.\n",
      "  for item, dtype in list(dtypes.iteritems()):\n",
      "c:\\Users\\User\\AppData\\Local\\Programs\\Python\\Python310\\lib\\site-packages\\pandapower\\auxiliary.py:272: FutureWarning: iteritems is deprecated and will be removed in a future version. Use .items instead.\n",
      "  for item, dtype in list(dtypes.iteritems()):\n"
     ]
    }
   ],
   "source": [
    "#lines\n",
    "line24 = pp.create_line(net,from_bus=bus2,to_bus=bus4,length_km=40,std_type='149-AL1/24-ST1A 110.0')\n",
    "line23 = pp.create_line(net,from_bus=bus2,to_bus=bus3,length_km=70,std_type='149-AL1/24-ST1A 110.0')\n",
    "line43 = pp.create_line(net,from_bus=bus4,to_bus=bus3,length_km=50,std_type='149-AL1/24-ST1A 110.0')"
   ]
  },
  {
   "cell_type": "code",
   "execution_count": 7,
   "metadata": {},
   "outputs": [
    {
     "name": "stderr",
     "output_type": "stream",
     "text": [
      "c:\\Users\\User\\AppData\\Local\\Programs\\Python\\Python310\\lib\\site-packages\\pandapower\\auxiliary.py:272: FutureWarning: iteritems is deprecated and will be removed in a future version. Use .items instead.\n",
      "  for item, dtype in list(dtypes.iteritems()):\n",
      "c:\\Users\\User\\AppData\\Local\\Programs\\Python\\Python310\\lib\\site-packages\\pandapower\\auxiliary.py:272: FutureWarning: iteritems is deprecated and will be removed in a future version. Use .items instead.\n",
      "  for item, dtype in list(dtypes.iteritems()):\n",
      "c:\\Users\\User\\AppData\\Local\\Programs\\Python\\Python310\\lib\\site-packages\\pandapower\\auxiliary.py:272: FutureWarning: iteritems is deprecated and will be removed in a future version. Use .items instead.\n",
      "  for item, dtype in list(dtypes.iteritems()):\n"
     ]
    }
   ],
   "source": [
    "# 3 loads\n",
    "load2 = pp.create_load(net, bus2,p_mw = 60)\n",
    "load3 = pp.create_load(net, bus3,p_mw = 70)\n",
    "load4 = pp.create_load(net, bus4,p_mw = 10)"
   ]
  },
  {
   "cell_type": "code",
   "execution_count": 8,
   "metadata": {},
   "outputs": [
    {
     "name": "stderr",
     "output_type": "stream",
     "text": [
      "c:\\Users\\User\\AppData\\Local\\Programs\\Python\\Python310\\lib\\site-packages\\pandapower\\auxiliary.py:272: FutureWarning: iteritems is deprecated and will be removed in a future version. Use .items instead.\n",
      "  for item, dtype in list(dtypes.iteritems()):\n",
      "c:\\Users\\User\\AppData\\Local\\Programs\\Python\\Python310\\lib\\site-packages\\pandapower\\auxiliary.py:272: FutureWarning: iteritems is deprecated and will be removed in a future version. Use .items instead.\n",
      "  for item, dtype in list(dtypes.iteritems()):\n",
      "c:\\Users\\User\\AppData\\Local\\Programs\\Python\\Python310\\lib\\site-packages\\pandapower\\auxiliary.py:272: FutureWarning: iteritems is deprecated and will be removed in a future version. Use .items instead.\n",
      "  for item, dtype in list(dtypes.iteritems()):\n"
     ]
    }
   ],
   "source": [
    "# generator and external grid\n",
    "exgen = pp.create_ext_grid(net,bus1,min_p_mw=-1000, max_p_mw=1000)\n",
    "gen4 = pp.create_gen(net, bus4,p_mw=100, min_p_mw=0,max_p_mw=100,vm_pu = 1.01, controllable=True)\n",
    "gen3 = pp.create_gen(net, bus3,p_mw = 80, min_p_mw=0,max_p_mw=80,vm_pu = 1.01, controllable=True)"
   ]
  },
  {
   "cell_type": "code",
   "execution_count": 9,
   "metadata": {},
   "outputs": [
    {
     "name": "stderr",
     "output_type": "stream",
     "text": [
      "c:\\Users\\User\\AppData\\Local\\Programs\\Python\\Python310\\lib\\site-packages\\pandapower\\auxiliary.py:272: FutureWarning: iteritems is deprecated and will be removed in a future version. Use .items instead.\n",
      "  for item, dtype in list(dtypes.iteritems()):\n",
      "c:\\Users\\User\\AppData\\Local\\Programs\\Python\\Python310\\lib\\site-packages\\pandapower\\auxiliary.py:272: FutureWarning: iteritems is deprecated and will be removed in a future version. Use .items instead.\n",
      "  for item, dtype in list(dtypes.iteritems()):\n",
      "c:\\Users\\User\\AppData\\Local\\Programs\\Python\\Python310\\lib\\site-packages\\pandapower\\auxiliary.py:272: FutureWarning: iteritems is deprecated and will be removed in a future version. Use .items instead.\n",
      "  for item, dtype in list(dtypes.iteritems()):\n"
     ]
    },
    {
     "data": {
      "text/plain": [
       "2"
      ]
     },
     "execution_count": 9,
     "metadata": {},
     "output_type": "execute_result"
    }
   ],
   "source": [
    "# costs\n",
    "pp.create_poly_cost(net,gen4,'gen',cp1_eur_per_mw=12)\n",
    "pp.create_poly_cost(net,gen3,'gen',cp1_eur_per_mw=15)\n",
    "pp.create_poly_cost(net,exgen,'ext_grid',cp1_eur_per_mw=10)"
   ]
  },
  {
   "cell_type": "code",
   "execution_count": 10,
   "metadata": {},
   "outputs": [
    {
     "name": "stderr",
     "output_type": "stream",
     "text": [
      "numba cannot be imported and numba functions are disabled.\n",
      "Probably the execution is slow.\n",
      "Please install numba to gain a massive speedup.\n",
      "(or if you prefer slow execution, set the flag numba=False to avoid this warning!)\n",
      "\n"
     ]
    }
   ],
   "source": [
    "#optimal power flow run\n",
    "pp.runopp(net,delta = 1e-16)"
   ]
  },
  {
   "cell_type": "code",
   "execution_count": 11,
   "metadata": {},
   "outputs": [
    {
     "data": {
      "text/html": [
       "<div>\n",
       "<style scoped>\n",
       "    .dataframe tbody tr th:only-of-type {\n",
       "        vertical-align: middle;\n",
       "    }\n",
       "\n",
       "    .dataframe tbody tr th {\n",
       "        vertical-align: top;\n",
       "    }\n",
       "\n",
       "    .dataframe thead th {\n",
       "        text-align: right;\n",
       "    }\n",
       "</style>\n",
       "<table border=\"1\" class=\"dataframe\">\n",
       "  <thead>\n",
       "    <tr style=\"text-align: right;\">\n",
       "      <th></th>\n",
       "      <th>p_mw</th>\n",
       "      <th>q_mvar</th>\n",
       "      <th>va_degree</th>\n",
       "      <th>vm_pu</th>\n",
       "    </tr>\n",
       "  </thead>\n",
       "  <tbody>\n",
       "    <tr>\n",
       "      <th>0</th>\n",
       "      <td>0.000225</td>\n",
       "      <td>10.594623</td>\n",
       "      <td>-13.481007</td>\n",
       "      <td>0.989756</td>\n",
       "    </tr>\n",
       "    <tr>\n",
       "      <th>1</th>\n",
       "      <td>0.000079</td>\n",
       "      <td>8.601766</td>\n",
       "      <td>-16.426835</td>\n",
       "      <td>0.967619</td>\n",
       "    </tr>\n",
       "  </tbody>\n",
       "</table>\n",
       "</div>"
      ],
      "text/plain": [
       "       p_mw     q_mvar  va_degree     vm_pu\n",
       "0  0.000225  10.594623 -13.481007  0.989756\n",
       "1  0.000079   8.601766 -16.426835  0.967619"
      ]
     },
     "execution_count": 11,
     "metadata": {},
     "output_type": "execute_result"
    }
   ],
   "source": [
    "# checking the resulting generator parameters\n",
    "net.res_gen"
   ]
  },
  {
   "cell_type": "code",
   "execution_count": 12,
   "metadata": {},
   "outputs": [
    {
     "data": {
      "text/html": [
       "<div>\n",
       "<style scoped>\n",
       "    .dataframe tbody tr th:only-of-type {\n",
       "        vertical-align: middle;\n",
       "    }\n",
       "\n",
       "    .dataframe tbody tr th {\n",
       "        vertical-align: top;\n",
       "    }\n",
       "\n",
       "    .dataframe thead th {\n",
       "        text-align: right;\n",
       "    }\n",
       "</style>\n",
       "<table border=\"1\" class=\"dataframe\">\n",
       "  <thead>\n",
       "    <tr style=\"text-align: right;\">\n",
       "      <th></th>\n",
       "      <th>p_mw</th>\n",
       "      <th>q_mvar</th>\n",
       "    </tr>\n",
       "  </thead>\n",
       "  <tbody>\n",
       "    <tr>\n",
       "      <th>0</th>\n",
       "      <td>144.559166</td>\n",
       "      <td>9.193021</td>\n",
       "    </tr>\n",
       "  </tbody>\n",
       "</table>\n",
       "</div>"
      ],
      "text/plain": [
       "         p_mw    q_mvar\n",
       "0  144.559166  9.193021"
      ]
     },
     "execution_count": 12,
     "metadata": {},
     "output_type": "execute_result"
    }
   ],
   "source": [
    "# resulting external grid .almost all loads are supplyed by it\n",
    "net.res_ext_grid"
   ]
  },
  {
   "cell_type": "code",
   "execution_count": 13,
   "metadata": {},
   "outputs": [
    {
     "data": {
      "text/plain": [
       "1445.5955448594825"
      ]
     },
     "execution_count": 13,
     "metadata": {},
     "output_type": "execute_result"
    }
   ],
   "source": [
    "# resulting cost\n",
    "net.res_cost"
   ]
  }
 ],
 "metadata": {
  "kernelspec": {
   "display_name": "Python 3.10.8 64-bit",
   "language": "python",
   "name": "python3"
  },
  "language_info": {
   "codemirror_mode": {
    "name": "ipython",
    "version": 3
   },
   "file_extension": ".py",
   "mimetype": "text/x-python",
   "name": "python",
   "nbconvert_exporter": "python",
   "pygments_lexer": "ipython3",
   "version": "3.10.8"
  },
  "orig_nbformat": 4,
  "vscode": {
   "interpreter": {
    "hash": "afb734500600fd355917ca529030176ea0ca205570884b88f2f6f7d791fd3fbe"
   }
  }
 },
 "nbformat": 4,
 "nbformat_minor": 2
}
