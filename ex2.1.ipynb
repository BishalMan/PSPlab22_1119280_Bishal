{
 "cells": [
  {
   "cell_type": "markdown",
   "metadata": {},
   "source": [
    "Create a empty network. Use 100 MVA as base power for the network"
   ]
  },
  {
   "cell_type": "code",
   "execution_count": 39,
   "metadata": {},
   "outputs": [],
   "source": [
    "import pandapower as pp\n",
    "net = pp.create_empty_network(sn_mva=100)"
   ]
  },
  {
   "cell_type": "markdown",
   "metadata": {},
   "source": [
    "Creating all buses with the rated voltage."
   ]
  },
  {
   "cell_type": "code",
   "execution_count": 40,
   "metadata": {},
   "outputs": [],
   "source": [
    "bus1 = pp.create_bus(net,name = \"LV bus1\",vn_kv = 22,type ='b') \n",
    "bus2 = pp.create_bus(net,name = \"LV bus2\",vn_kv = 22,type = 'b')\n",
    "bus3 = pp.create_bus(net,name = \"HV Transformer Bus3\",vn_kv = 220, type ='n')\n",
    "bus4 = pp.create_bus(net,name = \"HV Transformer Bus4\",vn_kv= 220, type ='n')\n",
    "bus5 = pp.create_bus(net,name = \"HV Transformer Bus5\",vn_kv= 110, type ='n')\n",
    "bus6 = pp.create_bus(net,name = \"HV Transformer Bus6\",vn_kv= 110, type ='n')"
   ]
  },
  {
   "cell_type": "markdown",
   "metadata": {},
   "source": [
    "Creating shunt elements.For the generator an external grid representation is used and voltage = 1 pu."
   ]
  },
  {
   "cell_type": "code",
   "execution_count": 41,
   "metadata": {},
   "outputs": [
    {
     "data": {
      "text/plain": [
       "0"
      ]
     },
     "execution_count": 41,
     "metadata": {},
     "output_type": "execute_result"
    }
   ],
   "source": [
    "pp.create_ext_grid(net, bus=bus1, vm_pu=1, name=\"Generator\")"
   ]
  },
  {
   "cell_type": "markdown",
   "metadata": {},
   "source": [
    " For the load use the create_load_from_cosphi command"
   ]
  },
  {
   "cell_type": "code",
   "execution_count": 42,
   "metadata": {},
   "outputs": [],
   "source": [
    "load =pp.create_load_from_cosphi(net,1,sn_mva =57,name='3 phase load',cos_phi=0.6,mode =\"underexcited\",const_z_percent =100 )"
   ]
  },
  {
   "cell_type": "markdown",
   "metadata": {},
   "source": [
    "Adding an impedance branch between bus 1 and bus 2 to model the internal impedance of the\n",
    "generator. create_impedance command is used."
   ]
  },
  {
   "cell_type": "code",
   "execution_count": 43,
   "metadata": {},
   "outputs": [
    {
     "data": {
      "text/plain": [
       "0"
      ]
     },
     "execution_count": 43,
     "metadata": {},
     "output_type": "execute_result"
    }
   ],
   "source": [
    "pp.create_impedance(net,from_bus=bus1,to_bus=bus2,r_pu=0 ,x_pu=0.2,sn_mva=90,name=\"node0\",rft_pu=0, xft_pu=.18)"
   ]
  },
  {
   "cell_type": "markdown",
   "metadata": {},
   "source": [
    "create_transformer_from_parameters is used dor all transformers"
   ]
  },
  {
   "cell_type": "code",
   "execution_count": 44,
   "metadata": {},
   "outputs": [],
   "source": [
    "t1 = pp.create_transformer_from_parameters(net,hv_bus=bus3,lv_bus=bus1,sn_mva=50,vn_hv_kv=220, vn_lv_kv=22,vk_percent=10, vkr_percent=0, pfe_kw=0, i0_percent=0)\n",
    "t2 = pp.create_transformer_from_parameters(net,hv_bus=bus4,lv_bus=bus2,sn_mva=40,vn_hv_kv=220, vn_lv_kv=11,vk_percent=6, vkr_percent=0, pfe_kw=0, i0_percent=0)\n",
    "t3 = pp.create_transformer_from_parameters(net,hv_bus=bus5,lv_bus=bus1,sn_mva=40,vn_hv_kv=110, vn_lv_kv=22,vk_percent=6.4, vkr_percent=0, pfe_kw=0, i0_percent=0)\n",
    "t4 = pp.create_transformer_from_parameters(net,hv_bus=bus6,lv_bus=bus2,sn_mva=40,vn_hv_kv=110, vn_lv_kv=11,vk_percent=8, vkr_percent=0, pfe_kw=0, i0_percent=0,)\n"
   ]
  },
  {
   "cell_type": "markdown",
   "metadata": {},
   "source": [
    "create_line_from_parameters command used. length = 1 km"
   ]
  },
  {
   "cell_type": "code",
   "execution_count": 45,
   "metadata": {},
   "outputs": [],
   "source": [
    "line1 = pp.create_line_from_parameters(net,from_bus = bus3,to_bus = bus4, length_km=1,r_ohm_per_km=48.4,x_ohm_per_km=0,c_nf_per_km=0,max_i_ka=0)"
   ]
  },
  {
   "cell_type": "markdown",
   "metadata": {},
   "source": [
    "maximum number of iterations set to 100 and power flow run."
   ]
  },
  {
   "cell_type": "code",
   "execution_count": 46,
   "metadata": {},
   "outputs": [
    {
     "name": "stderr",
     "output_type": "stream",
     "text": [
      "c:\\Users\\User\\anaconda3\\lib\\site-packages\\pandapower\\results_branch.py:139: RuntimeWarning: divide by zero encountered in true_divide\n",
      "  res_line_df[\"loading_percent\"].values[:] = i_ka / i_max * 100\n"
     ]
    },
    {
     "data": {
      "text/html": [
       "<div>\n",
       "<style scoped>\n",
       "    .dataframe tbody tr th:only-of-type {\n",
       "        vertical-align: middle;\n",
       "    }\n",
       "\n",
       "    .dataframe tbody tr th {\n",
       "        vertical-align: top;\n",
       "    }\n",
       "\n",
       "    .dataframe thead th {\n",
       "        text-align: right;\n",
       "    }\n",
       "</style>\n",
       "<table border=\"1\" class=\"dataframe\">\n",
       "  <thead>\n",
       "    <tr style=\"text-align: right;\">\n",
       "      <th></th>\n",
       "      <th>vm_pu</th>\n",
       "      <th>va_degree</th>\n",
       "      <th>p_mw</th>\n",
       "      <th>q_mvar</th>\n",
       "    </tr>\n",
       "  </thead>\n",
       "  <tbody>\n",
       "    <tr>\n",
       "      <th>0</th>\n",
       "      <td>1.000000e+00</td>\n",
       "      <td>0.000000</td>\n",
       "      <td>-16.603743</td>\n",
       "      <td>-471.439684</td>\n",
       "    </tr>\n",
       "    <tr>\n",
       "      <th>1</th>\n",
       "      <td>2.872761e-01</td>\n",
       "      <td>3.020468</td>\n",
       "      <td>2.822442</td>\n",
       "      <td>3.763256</td>\n",
       "    </tr>\n",
       "    <tr>\n",
       "      <th>2</th>\n",
       "      <td>7.717594e-01</td>\n",
       "      <td>-3.591495</td>\n",
       "      <td>0.000000</td>\n",
       "      <td>0.000000</td>\n",
       "    </tr>\n",
       "    <tr>\n",
       "      <th>3</th>\n",
       "      <td>7.490320e-01</td>\n",
       "      <td>5.096057</td>\n",
       "      <td>0.000000</td>\n",
       "      <td>0.000000</td>\n",
       "    </tr>\n",
       "    <tr>\n",
       "      <th>4</th>\n",
       "      <td>1.000000e+00</td>\n",
       "      <td>0.000000</td>\n",
       "      <td>0.000000</td>\n",
       "      <td>0.000000</td>\n",
       "    </tr>\n",
       "    <tr>\n",
       "      <th>5</th>\n",
       "      <td>1.276541e-23</td>\n",
       "      <td>3.020468</td>\n",
       "      <td>0.000000</td>\n",
       "      <td>0.000000</td>\n",
       "    </tr>\n",
       "  </tbody>\n",
       "</table>\n",
       "</div>"
      ],
      "text/plain": [
       "          vm_pu  va_degree       p_mw      q_mvar\n",
       "0  1.000000e+00   0.000000 -16.603743 -471.439684\n",
       "1  2.872761e-01   3.020468   2.822442    3.763256\n",
       "2  7.717594e-01  -3.591495   0.000000    0.000000\n",
       "3  7.490320e-01   5.096057   0.000000    0.000000\n",
       "4  1.000000e+00   0.000000   0.000000    0.000000\n",
       "5  1.276541e-23   3.020468   0.000000    0.000000"
      ]
     },
     "execution_count": 46,
     "metadata": {},
     "output_type": "execute_result"
    }
   ],
   "source": [
    "pp.runpp(net,max_iteration=100)\n",
    "net.res_bus"
   ]
  }
 ],
 "metadata": {
  "kernelspec": {
   "display_name": "Python 3.9.13 ('base')",
   "language": "python",
   "name": "python3"
  },
  "language_info": {
   "codemirror_mode": {
    "name": "ipython",
    "version": 3
   },
   "file_extension": ".py",
   "mimetype": "text/x-python",
   "name": "python",
   "nbconvert_exporter": "python",
   "pygments_lexer": "ipython3",
   "version": "3.9.13"
  },
  "orig_nbformat": 4,
  "vscode": {
   "interpreter": {
    "hash": "f08154012ddadd8e950e6e9e035c7a7b32c136e7647e9b7c77e02eb723a8bedb"
   }
  }
 },
 "nbformat": 4,
 "nbformat_minor": 2
}
